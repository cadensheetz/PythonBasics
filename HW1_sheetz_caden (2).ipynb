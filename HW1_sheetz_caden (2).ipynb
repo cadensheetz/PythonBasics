{
  "nbformat": 4,
  "nbformat_minor": 0,
  "metadata": {
    "colab": {
      "name": "HW1_sheetz_caden.ipynb",
      "provenance": [],
      "collapsed_sections": []
    },
    "kernelspec": {
      "name": "python3",
      "display_name": "Python 3"
    }
  },
  "cells": [
    {
      "cell_type": "markdown",
      "metadata": {
        "id": "hm8RAKinXsIP"
      },
      "source": [
        "## **Homework 1**\n",
        "\n",
        "### Create a copy of the notebook to start answering the questions. Name your notebook in the format HW1_lastname_firstname.ipynb to facilitate the grading process. \n",
        "\n",
        "### Answer all the questions, test your code to ensure there are no errors and the results are as expected. Once you have answered all the questions, save the final copy, then go to File-> click on Download.ipynb. Once the local copy has been downloaded, submit your file on Blackboard under the corresponding assignment section. Also provide us a link to your notebook during submission. \n",
        "\n",
        "### **The due date of this homework is 02/05/2021 (Friday).**\n",
        "\n",
        "### Please ensure you follow all the steps mentioned in the homework.\n",
        "\n",
        "### All the questions have a sample input and output to help you understand the question. Please note that your programs will be tested for other sets of inputs and outputs along with the sample provided. So test your code for other inputs.\n",
        "\n",
        "### You can submit your solutions any number of times until the deadline.\n"
      ]
    },
    {
      "cell_type": "markdown",
      "metadata": {
        "id": "uacFrEaZfcfq"
      },
      "source": [
        "##### Q1. Write a program that prompts the user to enter a password then prints the length of the password.\n",
        "\n",
        "```\n",
        "Enter your password: hello\n",
        "Your password is 5 long.\n",
        "```\n",
        "\n",
        "\n"
      ]
    },
    {
      "cell_type": "code",
      "metadata": {
        "id": "avPyES14ftCt"
      },
      "source": [
        "# Type solution here\n",
        "password = input(\"Enter your password: \")\n",
        "password_int = len(password)\n",
        "print(\"Your password is \"+ str(password_int)+ \" long.\")"
      ],
      "execution_count": null,
      "outputs": []
    },
    {
      "cell_type": "markdown",
      "metadata": {
        "id": "ekh-kABuItli"
      },
      "source": [
        ""
      ]
    },
    {
      "cell_type": "markdown",
      "metadata": {
        "id": "K1yko-xUItU3"
      },
      "source": [
        ""
      ]
    },
    {
      "cell_type": "markdown",
      "metadata": {
        "id": "behD0j_Of2TW"
      },
      "source": [
        "##### Q2. Write a program that prompts the user to enter their full name then prints the number of characters in their name (do not count spaces).\n",
        "\n",
        "```\n",
        "What is your name? Amulya Katti\n",
        "Amulya Katti your name has 11 characters.\n",
        "```"
      ]
    },
    {
      "cell_type": "code",
      "metadata": {
        "id": "XSdIRjwlhSlu"
      },
      "source": [
        "# Type solution here\n",
        "name = input(\"What is your name? \")\n",
        "name = name.replace(\" \",\"\")\n",
        "name_int = len(name)\n",
        "print(name+\" your name has \"+str(name_int)+\" characters.\")\n"
      ],
      "execution_count": null,
      "outputs": []
    },
    {
      "cell_type": "markdown",
      "metadata": {
        "id": "5KHOWF6FhVHV"
      },
      "source": [
        "##### Q3. Write a program that prompts the user to enter a month (as a number), then prints the name of the month and the number of days in that month. Ensure that the user inputs a valid month and handle any error cases.\n",
        "\n",
        "```\n",
        "Enter the month number: 9\n",
        "September has 30 days\n",
        "```"
      ]
    },
    {
      "cell_type": "code",
      "metadata": {
        "id": "KhS-SAEThyTG"
      },
      "source": [
        "# Type solution here\n",
        "cont = True\n",
        "month = int(input(\"Enter the month number: \"))\n",
        "while True:\n",
        "  if month == 1: \n",
        "    print(\"January has 31 days\")\n",
        "    break\n",
        "  elif month == 2: \n",
        "    print(\"February has 28 days\")\n",
        "    break\n",
        "  elif month == 3: \n",
        "    print(\"March has 31 days\")\n",
        "    break\n",
        "  elif month == 4: \n",
        "    print(\"April has 30 days\")\n",
        "    break\n",
        "  elif month == 5: \n",
        "    print(\"May has 31 days\")\n",
        "    break\n",
        "  elif month == 6: \n",
        "    print(\"June has 30 days\")\n",
        "    break\n",
        "  elif month == 7: \n",
        "    print(\"July has 31 days\")\n",
        "    break\n",
        "  elif month == 8: \n",
        "    print(\"August has 31 days\")\n",
        "    break\n",
        "  elif month == 9: \n",
        "    print(\"September has 30 days\")\n",
        "    break\n",
        "  elif month == 10: \n",
        "    print(\"October has 31 days\")\n",
        "    break\n",
        "  elif month == 11: \n",
        "    print(\"November has 30 days\")\n",
        "    break\n",
        "  elif month == 12: \n",
        "    print(\"December has 31 days\")\n",
        "    break\n",
        "  else: \n",
        "    print(\"Invalid input. Please try again.\")\n",
        "    month = int(input(\"Enter the month number: \"))"
      ],
      "execution_count": null,
      "outputs": []
    },
    {
      "cell_type": "markdown",
      "metadata": {
        "id": "O7lnAdGlh6Xa"
      },
      "source": [
        "##### Q4. Write a program that prompts the user to enter a loan amount, annual interest rate, and number of years  for a car loan. Then calculate and print the monthly payment amount.\n",
        "\n",
        "Note:\n",
        "```\n",
        "PMT= [PV*i*((1+i)^n)]/[((1+i)^n)-1]\n",
        "```\n",
        "PMT is the monthly payment\n",
        "\n",
        "PV is the loan amount\n",
        "\n",
        "i is the interest rate per month in decimal form (interest rate percentage divided by 12)\n",
        "\n",
        "n is the number of months (term of the loan in months)\n",
        "\n",
        "```\n",
        "Loan Amount: 30000.00\n",
        "Annual Interest Rate: 4.00\n",
        "Years: 5\n",
        "Your monthly payment is: $552.50\n",
        "```"
      ]
    },
    {
      "cell_type": "code",
      "metadata": {
        "id": "p4B5JH5GiTs9"
      },
      "source": [
        "# Type solution here\n",
        "month = 12\n",
        "PV = float(input(\"Loan Amount: \"))\n",
        "interestRate = float(input(\"Annual Interest rate: \"))\n",
        "i = (interestRate*.01)/month\n",
        "n = int(input(\"Years: \"))\n",
        "n1 = n*month\n",
        "pmt = (PV*i*((1+i)**n1))/(((1+i)**n1)-1)\n",
        "print(\"Your monthly payment is: $\"+ str(round(pmt,2)))"
      ],
      "execution_count": null,
      "outputs": []
    },
    {
      "cell_type": "markdown",
      "metadata": {
        "id": "SjiolJKgiWV-"
      },
      "source": [
        "##### Q5. Write a program to that prompts the user to enter a string. Then check whether or not the string is a palindrome.\n",
        "\n",
        "```\n",
        "Enter a string: Madam\n",
        "Madam, is a palindrome!\n",
        "```"
      ]
    },
    {
      "cell_type": "code",
      "metadata": {
        "id": "F5_M934Ri0es"
      },
      "source": [
        "# Type solution here\n",
        "ui = input(\"Please enter a string: \")\n",
        "ui2 = ui.lower() \n",
        "ui2 = ui.strip() \n",
        "uiList = list(ui2)\n",
        "uiList.sort()\n",
        "uiPal = ''.join(uiList)\n",
        "for i in range(len(ui2)): \n",
        "  if ui2[i] == uiPal[i]: \n",
        "    print(ui+\", is a palindrome!\")\n",
        "  else: \n",
        "    print(ui+\", is not a palindrome\")\n",
        "  break"
      ],
      "execution_count": null,
      "outputs": []
    },
    {
      "cell_type": "markdown",
      "metadata": {
        "id": "BLBD6n9vkJEu"
      },
      "source": [
        "##### Q6. Write a program to compute and print all possible combinations of change for \\$1. Denominations to be considered – quarter, dime, nickel, penny.\n",
        "\n",
        "Hint: Use nested loops (loops within loops for the various denominations of coins)\n",
        "\n",
        "```\n",
        "Change for $1:\n",
        "0 quarters, 0 dimes, 0 nickels, 100 pennies\n",
        "…\n",
        "4 quarters, 0 dimes, 0 nickels, 0 pennies\n",
        "```"
      ]
    },
    {
      "cell_type": "code",
      "metadata": {
        "id": "kAQsTjwDkZZ5"
      },
      "source": [
        "# Type solution here\n",
        "print(\"Change for $1:\")\n",
        "\n",
        "for quarter in range(0,5,1): \n",
        "  for dime in range(0,11,1):\n",
        "    for nickel in range(0,21,1): \n",
        "      for penny in range(0,101,5): \n",
        "        if (25*quarter + 10*dime + 5*nickel +1*penny) == 100: \n",
        "\n",
        "          print(quarter, \"quarters\", dime,\"dimes\", nickel,\"nickels\", penny,\"pennies\")"
      ],
      "execution_count": null,
      "outputs": []
    },
    {
      "cell_type": "markdown",
      "metadata": {
        "id": "rUPDjYiIkbgs"
      },
      "source": [
        "##### Q7. Ask the user to enter two positive integers between 1 and 100. Read those integers. Then output a multiplication table of the first number times the second number. \n",
        "\n",
        "Note: You have to ensure the entered numbers are between 1 and 100 only.\n",
        "\n",
        "```\n",
        "Please enter an integer: 5\n",
        "Please enter another integer: 20\n",
        "5 x 1 = 5\n",
        "5 x 2 = 10\n",
        "5 x 3 = 15\n",
        "…\n",
        "5 x 20 = 100\n",
        "```"
      ]
    },
    {
      "cell_type": "code",
      "metadata": {
        "id": "Qg0Orv1klHzA"
      },
      "source": [
        "# Type solution here\n",
        "num1 = \"\"\n",
        "num2 = \"\"\n",
        "while not num1.isdigit() or not num2.isdigit(): \n",
        "  num1 = input(\"Please enter an integer: \")\n",
        "  num2 = input(\"Please enter another integer: \")\n",
        "\n",
        "  if num1.isdigit() and num2.isdigit(): \n",
        "    num1 = int(num1)\n",
        "    num2 = int(num2)\n",
        "    if 0<= num1 <= 100: \n",
        "      if 0<= num2 <= 100: \n",
        "        break \n",
        "  else: \n",
        "    print(\"Please enter two integers from 1-100\")\n",
        "for num in range(1, num2 +1): \n",
        "    print(num1, \"x\", num, \"=\", num1 * num)"
      ],
      "execution_count": null,
      "outputs": []
    },
    {
      "cell_type": "markdown",
      "metadata": {
        "id": "SbnbPUPTlLD9"
      },
      "source": [
        "##### Q8. Write a program to ask the user to enter a password. Then check to see if it is a valid password based on these requirements -\n",
        "\n",
        "Must be at least 8 characters long\n",
        "\n",
        "Must contain both uppercase and lowercase letters\n",
        "\n",
        "Must contain at least one number between 0-9\n",
        "\n",
        "Must contain a special character -!,@,#,$\n",
        "\n",
        "If the password is not valid, ask the user to re-enter. This should continue until the user enters a valid password. After a valid password is entered, print Access Granted!\n",
        "\n",
        "```\n",
        "Please enter a password. Follow these requirements - \n",
        "a. Must be at least 8 characters long\n",
        "b. Must contain both uppercase and lowercase letters\n",
        "c. Must contain at least one number between 0-9\n",
        "d. Must contain a special character -!,@,#,$\n",
        "Password: HelloWorld1\n",
        "Invalid password. Try again!\n",
        "Password: Hello@World1\n",
        "Access Granted!\n",
        "```\n"
      ]
    },
    {
      "cell_type": "code",
      "metadata": {
        "id": "OXmZ177Rl-RV"
      },
      "source": [
        "# Type solution here\n",
        "import re \n",
        "print(\"Please enter a password. Follow these requirements - \\na. Must be at least 8 characters long\\nb. Must contain both uppercase and lowercase letters\\nc. Must contain at least one number between 0-9\\nd. Must contain a special character -!,@,#,$\")\n",
        "password = input(\"Password: \")\n",
        "while True: \n",
        "  if (len(password)<8): \n",
        "    print(\"Try again!\")\n",
        "    password = input(\"Passowrd: \")\n",
        "  elif not re.search(\"[A-Z]\", password):\n",
        "    print(\"Try again!\")\n",
        "    password = input(\"Password: \")\n",
        "  elif not re.search(\"[0-9]\", password): \n",
        "    print(\"Try again!\")\n",
        "    password = input(\"Password: \")\n",
        "  elif not re.search(\"[-!@#$]\", password): \n",
        "    print(\"Try again!\")\n",
        "    password = (\"Password: \")\n",
        "  else: \n",
        "    print(\"Acess Granted!\")\n",
        "    break"
      ],
      "execution_count": null,
      "outputs": []
    },
    {
      "cell_type": "markdown",
      "metadata": {
        "id": "-0sdutTDnTKA"
      },
      "source": [
        "##### Q9. Given the score sheet of participants in a competition, you are required to find the runner-up score. You are given scores in a list. Find the score of the runner-up.\n",
        "\n",
        "```\n",
        "list1 - [2, 3, 6, 6, 5]\n",
        "runner_up - 5\n",
        "\n",
        "list2 - [1, 7, 5, 3, 10, 4, 5, 5, 6, 11]\n",
        "runner_up - 10\n",
        "```"
      ]
    },
    {
      "cell_type": "code",
      "metadata": {
        "id": "12YP9OaqpGRK",
        "colab": {
          "base_uri": "https://localhost:8080/"
        },
        "outputId": "e25ab973-7990-4f25-f49f-27b5fc12cbe6"
      },
      "source": [
        "# Type solution here\n",
        "list1 = [2, 3, 6, 6, 5]\n",
        "list2 = [1, 7, 5, 3, 10, 4, 5, 5, 6, 11]\n",
        "print(\"list 1 -\", list1)\n",
        "list1.sort()\n",
        "list2.sort() \n",
        "print(\"runner_up -\",list1[-3])\n",
        "print(\"\")\n",
        "print(\"\")\n",
        "print(\"list 2 -\", list2)\n",
        "print(\"runner_up -\", list2[-2])"
      ],
      "execution_count": null,
      "outputs": [
        {
          "output_type": "stream",
          "text": [
            "list 1 - [2, 3, 6, 6, 5]\n",
            "runner_up - 5\n",
            "\n",
            "\n",
            "list 2 - [1, 3, 4, 5, 5, 5, 6, 7, 10, 11]\n",
            "runner_up - 10\n"
          ],
          "name": "stdout"
        }
      ]
    }
  ]
}